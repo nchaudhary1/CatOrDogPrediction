{
  "nbformat": 4,
  "nbformat_minor": 0,
  "metadata": {
    "colab": {
      "name": "CNN59.ipynb",
      "provenance": [],
      "mount_file_id": "1rz6DKHxea5_cH6Q0CjRGQ37BllFwo5_O",
      "authorship_tag": "ABX9TyNJwcVB+LFgyL+pc7icabhW",
      "include_colab_link": true
    },
    "kernelspec": {
      "name": "python3",
      "display_name": "Python 3"
    },
    "language_info": {
      "name": "python"
    }
  },
  "cells": [
    {
      "cell_type": "markdown",
      "metadata": {
        "id": "view-in-github",
        "colab_type": "text"
      },
      "source": [
        "<a href=\"https://colab.research.google.com/github/nchaudhary1/CatOrDogPrediction/blob/main/CNN59.ipynb\" target=\"_parent\"><img src=\"https://colab.research.google.com/assets/colab-badge.svg\" alt=\"Open In Colab\"/></a>"
      ]
    },
    {
      "cell_type": "code",
      "execution_count": null,
      "metadata": {
        "id": "n0XG9lEiOmWm"
      },
      "outputs": [],
      "source": [
        "#IMporting the libraries \n",
        "import tensorflow as tf\n",
        "from keras.preprocessing.image import ImageDataGenerator"
      ]
    },
    {
      "cell_type": "code",
      "source": [
        "#Specifying teh tensorflow version\n",
        "tf.__version__"
      ],
      "metadata": {
        "colab": {
          "base_uri": "https://localhost:8080/",
          "height": 35
        },
        "id": "rIAqaSPLPfsx",
        "outputId": "72005b43-c982-4f8b-c9ed-90989e16c2dd"
      },
      "execution_count": null,
      "outputs": [
        {
          "output_type": "execute_result",
          "data": {
            "application/vnd.google.colaboratory.intrinsic+json": {
              "type": "string"
            },
            "text/plain": [
              "'2.8.0'"
            ]
          },
          "metadata": {},
          "execution_count": 24
        }
      ]
    },
    {
      "cell_type": "code",
      "source": [
        "#testing the GPU\n",
        "import tensorflow as tf\n",
        "tf.test.gpu_device_name()"
      ],
      "metadata": {
        "colab": {
          "base_uri": "https://localhost:8080/",
          "height": 35
        },
        "id": "vZjvXCESPiOa",
        "outputId": "1d16a638-0cf8-42fe-b637-cf0fc8f3a160"
      },
      "execution_count": null,
      "outputs": [
        {
          "output_type": "execute_result",
          "data": {
            "application/vnd.google.colaboratory.intrinsic+json": {
              "type": "string"
            },
            "text/plain": [
              "''"
            ]
          },
          "metadata": {},
          "execution_count": 25
        }
      ]
    },
    {
      "cell_type": "code",
      "source": [
        "import os\n",
        "os.chdir('/content/drive/MyDrive/CNN_data')\n"
      ],
      "metadata": {
        "id": "OyHUoMCWPyn3"
      },
      "execution_count": null,
      "outputs": []
    },
    {
      "cell_type": "code",
      "source": [
        "#Data preprocessing\n",
        "train_datagen = ImageDataGenerator(rescale=1./255,shear_range=0.2,zoom_range=0.2,\n",
        "                                   horizontal_flip= True)\n",
        "training_set = train_datagen.flow_from_directory('training_set',\n",
        "                                                 target_size=(64,64),\n",
        "                                                 batch_size=32,\n",
        "                                                 class_mode='binary')\n",
        " "
      ],
      "metadata": {
        "colab": {
          "base_uri": "https://localhost:8080/"
        },
        "id": "zft65VDIa9Ip",
        "outputId": "d25cf981-7802-40f1-917e-8e76e20c86b8"
      },
      "execution_count": null,
      "outputs": [
        {
          "output_type": "stream",
          "name": "stdout",
          "text": [
            "Found 4000 images belonging to 2 classes.\n"
          ]
        }
      ]
    },
    {
      "cell_type": "code",
      "source": [
        "#preprocessing the test set\n",
        "test_datagen = ImageDataGenerator(rescale=1./255)\n",
        "test_set = test_datagen.flow_from_directory('test_set',\n",
        "                                            target_size=(64,64),\n",
        "                                            batch_size=32,\n",
        "                                            class_mode= 'binary')\n",
        "                                  "
      ],
      "metadata": {
        "colab": {
          "base_uri": "https://localhost:8080/"
        },
        "id": "ambW3SC0b3j6",
        "outputId": "7233177e-4a15-48f9-8d84-c959fadb0d57"
      },
      "execution_count": null,
      "outputs": [
        {
          "output_type": "stream",
          "name": "stdout",
          "text": [
            "Found 1000 images belonging to 2 classes.\n"
          ]
        }
      ]
    },
    {
      "cell_type": "markdown",
      "source": [
        "**Building the CNN**"
      ],
      "metadata": {
        "id": "7Zgl6U-_dFI1"
      }
    },
    {
      "cell_type": "code",
      "source": [
        "#initialising the cnn\n",
        "cnn = tf.keras.models.Sequential()"
      ],
      "metadata": {
        "id": "SskEQH9JdEig"
      },
      "execution_count": null,
      "outputs": []
    },
    {
      "cell_type": "code",
      "source": [
        "#convolution\n",
        "cnn.add(tf.keras.layers.Conv2D(filters = 32, kernel_size = 3, activation = 'relu',input_shape = [64,64,3]))"
      ],
      "metadata": {
        "id": "bulmj9WvdDMV"
      },
      "execution_count": null,
      "outputs": []
    },
    {
      "cell_type": "code",
      "source": [
        "#Pooling\n",
        "cnn.add(tf.keras.layers.MaxPool2D(pool_size = 2, strides = 2))"
      ],
      "metadata": {
        "id": "lzNRF97XdnNN"
      },
      "execution_count": null,
      "outputs": []
    },
    {
      "cell_type": "code",
      "source": [
        "#Adding a second convolutional layer\n",
        "cnn.add(tf.keras.layers.Conv2D(filters=32, kernel_size=3, activation='relu'))\n",
        "cnn.add(tf.keras.layers.MaxPool2D(pool_size=2, strides=2))\n"
      ],
      "metadata": {
        "id": "rgQbYW1udv3P"
      },
      "execution_count": null,
      "outputs": []
    },
    {
      "cell_type": "code",
      "source": [
        "#Flattening\n",
        "cnn.add(tf.keras.layers.Flatten())\n"
      ],
      "metadata": {
        "id": "VLYbZJ_6d7N3"
      },
      "execution_count": null,
      "outputs": []
    },
    {
      "cell_type": "code",
      "source": [
        "#Full Connection\n",
        "cnn.add(tf.keras.layers.Dense(units = 128, activation = 'relu'))"
      ],
      "metadata": {
        "id": "l0ZO93akeCxG"
      },
      "execution_count": null,
      "outputs": []
    },
    {
      "cell_type": "code",
      "source": [
        "#Output layer\n",
        "cnn.add(tf.keras.layers.Dense(units = 1, activation = 'sigmoid'))"
      ],
      "metadata": {
        "id": "8CSAxVzkeLkz"
      },
      "execution_count": null,
      "outputs": []
    },
    {
      "cell_type": "code",
      "source": [
        "#Model summary\n",
        "cnn.summary()"
      ],
      "metadata": {
        "colab": {
          "base_uri": "https://localhost:8080/"
        },
        "id": "b58zt1QceUIG",
        "outputId": "463609e6-dae9-4ae4-a3fc-4f09f8875fe3"
      },
      "execution_count": null,
      "outputs": [
        {
          "output_type": "stream",
          "name": "stdout",
          "text": [
            "Model: \"sequential\"\n",
            "_________________________________________________________________\n",
            " Layer (type)                Output Shape              Param #   \n",
            "=================================================================\n",
            " conv2d (Conv2D)             (None, 62, 62, 32)        896       \n",
            "                                                                 \n",
            " max_pooling2d (MaxPooling2D  (None, 31, 31, 32)       0         \n",
            " )                                                               \n",
            "                                                                 \n",
            " conv2d_1 (Conv2D)           (None, 29, 29, 32)        9248      \n",
            "                                                                 \n",
            " max_pooling2d_1 (MaxPooling  (None, 14, 14, 32)       0         \n",
            " 2D)                                                             \n",
            "                                                                 \n",
            " flatten (Flatten)           (None, 6272)              0         \n",
            "                                                                 \n",
            " dense (Dense)               (None, 128)               802944    \n",
            "                                                                 \n",
            " dense_1 (Dense)             (None, 1)                 129       \n",
            "                                                                 \n",
            "=================================================================\n",
            "Total params: 813,217\n",
            "Trainable params: 813,217\n",
            "Non-trainable params: 0\n",
            "_________________________________________________________________\n"
          ]
        }
      ]
    },
    {
      "cell_type": "markdown",
      "source": [
        "**TRaining the CNN**"
      ],
      "metadata": {
        "id": "LxQbLdOSebKD"
      }
    },
    {
      "cell_type": "code",
      "source": [
        "#compiling the cnn\n",
        "cnn.compile(optimizer='adam', loss = 'binary_crossentropy', metrics = ['accuracy'])"
      ],
      "metadata": {
        "id": "0Nmwv2ALeXRj"
      },
      "execution_count": null,
      "outputs": []
    },
    {
      "cell_type": "markdown",
      "source": [
        "**Training the cnn on the training set and evaluating it on the test set**"
      ],
      "metadata": {
        "id": "Rblaa5xreweg"
      }
    },
    {
      "cell_type": "code",
      "source": [
        "cnn.fit(x = training_set, validation_data = test_set, epochs = 25)"
      ],
      "metadata": {
        "colab": {
          "base_uri": "https://localhost:8080/"
        },
        "id": "V0oFdae2ergP",
        "outputId": "602ca733-f3c7-498d-8057-7fe2abc16b3b"
      },
      "execution_count": null,
      "outputs": [
        {
          "output_type": "stream",
          "name": "stdout",
          "text": [
            "Epoch 1/25\n",
            "125/125 [==============================] - 804s 6s/step - loss: 0.6873 - accuracy: 0.5405 - val_loss: 0.6635 - val_accuracy: 0.5760\n",
            "Epoch 2/25\n",
            "125/125 [==============================] - 42s 335ms/step - loss: 0.6278 - accuracy: 0.6538 - val_loss: 0.6034 - val_accuracy: 0.6820\n",
            "Epoch 3/25\n",
            "125/125 [==============================] - 41s 330ms/step - loss: 0.5780 - accuracy: 0.6952 - val_loss: 0.6161 - val_accuracy: 0.6560\n",
            "Epoch 4/25\n",
            "125/125 [==============================] - 41s 329ms/step - loss: 0.5596 - accuracy: 0.7045 - val_loss: 0.5379 - val_accuracy: 0.7300\n",
            "Epoch 5/25\n",
            "125/125 [==============================] - 41s 329ms/step - loss: 0.5354 - accuracy: 0.7322 - val_loss: 0.6683 - val_accuracy: 0.6230\n",
            "Epoch 6/25\n",
            "125/125 [==============================] - 44s 353ms/step - loss: 0.5178 - accuracy: 0.7402 - val_loss: 0.5628 - val_accuracy: 0.7330\n",
            "Epoch 7/25\n",
            "125/125 [==============================] - 44s 350ms/step - loss: 0.4917 - accuracy: 0.7545 - val_loss: 0.5067 - val_accuracy: 0.7730\n",
            "Epoch 8/25\n",
            "125/125 [==============================] - 43s 343ms/step - loss: 0.4752 - accuracy: 0.7628 - val_loss: 0.5561 - val_accuracy: 0.7170\n",
            "Epoch 9/25\n",
            "125/125 [==============================] - 44s 351ms/step - loss: 0.4752 - accuracy: 0.7675 - val_loss: 0.5073 - val_accuracy: 0.7710\n",
            "Epoch 10/25\n",
            "125/125 [==============================] - 44s 354ms/step - loss: 0.4526 - accuracy: 0.7853 - val_loss: 0.4807 - val_accuracy: 0.7880\n",
            "Epoch 11/25\n",
            "125/125 [==============================] - 44s 351ms/step - loss: 0.4443 - accuracy: 0.7878 - val_loss: 0.4942 - val_accuracy: 0.7760\n",
            "Epoch 12/25\n",
            "125/125 [==============================] - 43s 346ms/step - loss: 0.4280 - accuracy: 0.7975 - val_loss: 0.4886 - val_accuracy: 0.7890\n",
            "Epoch 13/25\n",
            "125/125 [==============================] - 43s 343ms/step - loss: 0.4164 - accuracy: 0.8105 - val_loss: 0.4772 - val_accuracy: 0.7870\n",
            "Epoch 14/25\n",
            "125/125 [==============================] - 45s 356ms/step - loss: 0.4015 - accuracy: 0.8155 - val_loss: 0.4773 - val_accuracy: 0.7710\n",
            "Epoch 15/25\n",
            "125/125 [==============================] - 45s 358ms/step - loss: 0.3958 - accuracy: 0.8177 - val_loss: 0.4744 - val_accuracy: 0.7800\n",
            "Epoch 16/25\n",
            "125/125 [==============================] - 43s 344ms/step - loss: 0.3801 - accuracy: 0.8230 - val_loss: 0.5115 - val_accuracy: 0.7770\n",
            "Epoch 17/25\n",
            "125/125 [==============================] - 44s 353ms/step - loss: 0.3687 - accuracy: 0.8353 - val_loss: 0.4647 - val_accuracy: 0.7950\n",
            "Epoch 18/25\n",
            "125/125 [==============================] - 44s 349ms/step - loss: 0.3495 - accuracy: 0.8445 - val_loss: 0.4801 - val_accuracy: 0.7880\n",
            "Epoch 19/25\n",
            "125/125 [==============================] - 43s 345ms/step - loss: 0.3376 - accuracy: 0.8530 - val_loss: 0.5302 - val_accuracy: 0.7680\n",
            "Epoch 20/25\n",
            "125/125 [==============================] - 43s 346ms/step - loss: 0.3315 - accuracy: 0.8537 - val_loss: 0.4754 - val_accuracy: 0.8030\n",
            "Epoch 21/25\n",
            "125/125 [==============================] - 43s 341ms/step - loss: 0.3071 - accuracy: 0.8658 - val_loss: 0.5051 - val_accuracy: 0.7940\n",
            "Epoch 22/25\n",
            "125/125 [==============================] - 42s 337ms/step - loss: 0.2889 - accuracy: 0.8788 - val_loss: 0.5244 - val_accuracy: 0.7900\n",
            "Epoch 23/25\n",
            "125/125 [==============================] - 44s 355ms/step - loss: 0.2916 - accuracy: 0.8717 - val_loss: 0.5115 - val_accuracy: 0.7990\n",
            "Epoch 24/25\n",
            "125/125 [==============================] - 43s 343ms/step - loss: 0.2673 - accuracy: 0.8860 - val_loss: 0.4957 - val_accuracy: 0.7940\n",
            "Epoch 25/25\n",
            "125/125 [==============================] - 43s 341ms/step - loss: 0.2691 - accuracy: 0.8832 - val_loss: 0.5710 - val_accuracy: 0.7750\n"
          ]
        },
        {
          "output_type": "execute_result",
          "data": {
            "text/plain": [
              "<keras.callbacks.History at 0x7f03cc6aee90>"
            ]
          },
          "metadata": {},
          "execution_count": 39
        }
      ]
    },
    {
      "cell_type": "code",
      "source": [
        "#Making a single prediction\n",
        "import numpy as np\n",
        "from keras.preprocessing import image\n",
        "test_image = image.load_img('/content/drive/MyDrive/CNN_data/single_prediction/cat_or_dog_1.jpg',target_size=(64,64))\n",
        "test_image = image.img_to_array(test_image)\n",
        "test_image = np.expand_dims(test_image, axis = 0)\n",
        "result = cnn.predict(test_image)\n",
        "training_set.class_indices\n",
        "if result[0][0] == 1:\n",
        "  prediction = 'dog'\n",
        "else:\n",
        "  prediction = 'cat'"
      ],
      "metadata": {
        "id": "h4Bi55q4e-Fx"
      },
      "execution_count": null,
      "outputs": []
    },
    {
      "cell_type": "code",
      "source": [
        "print(prediction)"
      ],
      "metadata": {
        "colab": {
          "base_uri": "https://localhost:8080/"
        },
        "id": "iaAmEBNgpGN7",
        "outputId": "5f35f735-3057-44c5-f710-9829e19e1d35"
      },
      "execution_count": null,
      "outputs": [
        {
          "output_type": "stream",
          "name": "stdout",
          "text": [
            "dog\n"
          ]
        }
      ]
    },
    {
      "cell_type": "code",
      "source": [
        ""
      ],
      "metadata": {
        "id": "NCrxS0TWpvhK"
      },
      "execution_count": null,
      "outputs": []
    }
  ]
}